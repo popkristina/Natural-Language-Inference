{
 "cells": [
  {
   "cell_type": "markdown",
   "metadata": {},
   "source": [
    "Import all of the needed libraries"
   ]
  },
  {
   "cell_type": "code",
   "execution_count": 1,
   "metadata": {},
   "outputs": [],
   "source": [
    "import numpy as np                                                 # For mathematical processings \n",
    "import pandas as pd                                                # Data manipulation\n",
    "import nltk                                                        # Natural language toolkit\n",
    "import matplotlib.pyplot as plt                                    # Plotting\n",
    "import os                                                          # For the path of the datasets\n",
    "import editdistance                                                # Levenshtein distance\n",
    "from collections import Counter                                    # Pretty obvious\n",
    "from nltk.corpus import wordnet\n",
    "from nltk.translate.bleu_score import sentence_bleu                # BLUE score calculator\n",
    "from nltk.translate.bleu_score import modified_precision           # Same BLUE, but you can adjust to the n-gram number\n",
    "                                                                   # that you need\n",
    "from nltk.translate import AlignedSent, Alignment\n",
    "from nltk.translate.nist_score import sentence_nist                # NIST score calculator\n",
    "from nltk.translate.meteor_score import single_meteor_score        # METEOR score\n",
    "from nltk.tag import StanfordNERTagger                             # Named Entity Recognition\n",
    "\n",
    "from sklearn import preprocessing                                  # To normalize features\n",
    "from sklearn.model_selection import train_test_split               # Split the dataset into train and test\n",
    "from sklearn.feature_selection import SelectFromModel              # For feature selection\n",
    "from sklearn.pipeline import Pipeline                              # Create a pipeline\n",
    "from sklearn.metrics import classification_report                  # Result metrics\n",
    "from sklearn.model_selection import StratifiedKFold, GridSearchCV  # To avoid overfitting\n",
    "from sklearn.metrics import accuracy_score   \n",
    "from sklearn.linear_model import LogisticRegression                # Logistic Regression Classifier\n",
    "from sklearn.svm import SVC                                        # SVM Classifier\n",
    "from sklearn.neural_network import MLPClassifier                   # Multi-layer Perceptron Classifier\n",
    "from sklearn.feature_extraction.text import TfidfVectorizer\n",
    "\n",
    "from keras.models import Sequential                                # To build a Keras model\n",
    "from keras.layers import Dense, Dropout, Masking, Embedding        # Types of layers"
   ]
  },
  {
   "cell_type": "code",
   "execution_count": 2,
   "metadata": {},
   "outputs": [],
   "source": [
    "os.chdir('D:/TU_Graz/Winter Semester 2020-2021/KDDM 2/Project/Datasets')"
   ]
  },
  {
   "cell_type": "markdown",
   "metadata": {},
   "source": [
    "Load the translated datasets"
   ]
  },
  {
   "cell_type": "code",
   "execution_count": 3,
   "metadata": {},
   "outputs": [],
   "source": [
    "train = pd.read_csv(\"translated_train.csv\")\n",
    "test = pd.read_csv(\"translated_test.csv\")"
   ]
  },
  {
   "cell_type": "markdown",
   "metadata": {},
   "source": [
    "Uni and bigram features"
   ]
  },
  {
   "cell_type": "code",
   "execution_count": 4,
   "metadata": {},
   "outputs": [],
   "source": [
    "# Extracts unigrams and bigrams from a text corpus and represents them as tf-idf frequencies\n",
    "\n",
    "def uni_bi_feats(sentences):\n",
    "    vectorizer = TfidfVectorizer(analyzer = \"word\", \n",
    "                                 ngram_range=(1,2), \n",
    "                                 tokenizer = None, \n",
    "                                 preprocessor = None,\n",
    "                                 stop_words = None, \n",
    "                                 max_features = 200,)\n",
    "    features = vectorizer.fit_transform(sentences)\n",
    "    features = features.toarray()\n",
    "    return features"
   ]
  },
  {
   "cell_type": "code",
   "execution_count": 5,
   "metadata": {},
   "outputs": [],
   "source": [
    "# Converts each sentence in a corpus of sentences to lower case\n",
    "\n",
    "def lower_letters(sentences):\n",
    "    lowered = []\n",
    "    for sentence in sentences:\n",
    "        lowered.append(sentence.lower())\n",
    "    return(lowered)"
   ]
  },
  {
   "cell_type": "code",
   "execution_count": 6,
   "metadata": {},
   "outputs": [],
   "source": [
    "lower_hypothesis = lower_letters(train[\"hypothesis\"])\n",
    "lower_premise = lower_letters(train[\"premise\"])\n",
    "ngram_feats_hypo = uni_bi_feats(lower_hypothesis)   # Creates 200 features for the hypothesis\n",
    "ngram_feats_pre = uni_bi_feats(lower_premise)       # ..and 200 features for the premise"
   ]
  },
  {
   "cell_type": "markdown",
   "metadata": {},
   "source": [
    "Extract the hand-crafted features"
   ]
  },
  {
   "cell_type": "code",
   "execution_count": 7,
   "metadata": {},
   "outputs": [],
   "source": [
    "def hand_crafted_features(premise, hypothesis):\n",
    "    \n",
    "    #If the sentence ends with a dot or other punctuation, remove it, because when it's splitted the last word involves \n",
    "    #the punctuation\n",
    "    \n",
    "    if premise[-1] in ('?','.','!', ';', ','):\n",
    "        premise = premise[:-1]\n",
    "    \n",
    "    if hypothesis[-1] in ('!', '.', '!', ';', ','):\n",
    "        hypothesis = hypothesis[:-1]\n",
    "   \n",
    "    #Lower all the characters in the sentence, so that when we compare if two sentences have overlapping words, they\n",
    "    #will be trated as the same\n",
    "    \n",
    "    premise_words = premise.lower().split()\n",
    "    hypothesis_words = hypothesis.lower().split()\n",
    "    \n",
    "    #Levenshtein distance\n",
    "    \n",
    "    dist = editdistance.eval(premise, hypothesis)\n",
    "    \n",
    "    #BLEU score\n",
    "    \n",
    "    bleu_score = modified_precision(premise_words, hypothesis_words, n = 1)\n",
    "    \n",
    "    #METEOR score\n",
    "    \n",
    "    meteor_score = single_meteor_score(premise, hypothesis)\n",
    "    \n",
    "    #Number of words in both sentences and their difference of lengths in terms of words\n",
    "    \n",
    "    num_words_premise = len(premise_words)\n",
    "    num_words_hypothesis = len(hypothesis_words)\n",
    "    word_difference = np.abs(num_words_premise - num_words_hypothesis)\n",
    "    \n",
    "    #Number of characters in each sentence and their difference in terms of characters\n",
    "    \n",
    "    num_chars_premise = sum(len(w) for w in premise_words)\n",
    "    num_chars_hypothesis = sum(len(w) for w in hypothesis_words)\n",
    "    character_difference = np.abs(num_chars_premise - num_chars_hypothesis)\n",
    "    \n",
    "    #Number of unique words in both the premise and the hypothesis and the difference between number of unique words\n",
    "    \n",
    "    num_unique_words_premise = len(set(premise_words))\n",
    "    num_unique_words_hypothesis = len(set(hypothesis_words))\n",
    "    unique_word_difference = np.abs(num_unique_words_premise - num_unique_words_hypothesis)\n",
    "    \n",
    "    #Number of overlapping words in the two sentences\n",
    "    \n",
    "    overlapping_words = len(list(set(premise_words) & set(hypothesis_words)))\n",
    "    \n",
    "    #POS tag the premise and the hypothesis\n",
    "    \n",
    "    premise_tagged = nltk.pos_tag(premise_words)\n",
    "    hypothesis_tagged = nltk.pos_tag(hypothesis_words)\n",
    "        \n",
    "    #Extract the words tagged as nouns from the premise and the hypothesis and get the number of ovelapping nouns\n",
    "    \n",
    "    nouns_premise = list(word for word in premise_tagged if\n",
    "                        word[1] == 'NN' or word[1] == 'NNS' or word[1] == 'NNP' or word[1] == 'NNPS')\n",
    "    nouns_hypothesis = list(word for word in hypothesis_tagged if\n",
    "                           word[1] == 'NN' or word[1] == 'NNS' or word[1] == 'NNP' or word[1] == 'NNPS')\n",
    "    overlapping_nouns = len(list(set(nouns_premise) & set(nouns_hypothesis)))\n",
    "    \n",
    "    #Count the number of nouns in the premise and the hypothesis and calculate the difference between number of nouns\n",
    "    #that each of the two sentences contain\n",
    "    \n",
    "    num_nouns_premise = len(nouns_premise)\n",
    "    num_nouns_hypothesis = len(nouns_hypothesis)\n",
    "    noun_difference = np.abs(num_nouns_premise - num_nouns_hypothesis)\n",
    "\n",
    "    #Extract the words tagged as verbs from the premise and the hypothesis and get the number of overlaping verbs\n",
    "    \n",
    "    verbs_premise = list(word for word in premise_tagged if\n",
    "                        word[1] == 'VB' or word[1] == 'VBD' or word[1] == 'VBG' or word[1] == 'VBN' \n",
    "                         or word[1] == 'VBP' or word[1] == 'VBZ')\n",
    "    \n",
    "    \n",
    "    verbs_hypothesis = list(word for word in hypothesis_tagged if\n",
    "                           word[1] == 'VB' or word[1] == 'VBD' or word[1] == 'VBG' or word[1] == 'VBN'\n",
    "                            or word[1] == 'VBP' or word[1] == 'VBZ')\n",
    "    \n",
    "    overlapping_verbs = len(list(set(verbs_premise) & set(verbs_hypothesis)))\n",
    "    \n",
    "    #Get the number of verbs in the premise and the hypothesis \n",
    "    \n",
    "    num_verbs_premise = len(verbs_premise)\n",
    "    num_verbs_hypothesis = len(verbs_hypothesis)\n",
    "    verb_difference = np.abs(num_verbs_premise - num_verbs_hypothesis)\n",
    "    \n",
    "    #Extract the words tagged as ajectives and get the number of overlapping adjectives in both \n",
    "    \n",
    "    adj_premise = list(word for word in premise_tagged if word[1] == 'JJ' or word[1] == 'JJR' or word[1] == 'JJS')\n",
    "    adj_hypothesis = list(word for word in hypothesis_tagged if word[1] == 'JJ' or word[1] == 'JJR' or word[1] == 'JJS')\n",
    "    overlapping_adjs = len(list(set(adj_premise) & set(adj_hypothesis)))\n",
    "    \n",
    "    #Get the number of adjectives in the premise and the hypothesis and their difference\n",
    "    \n",
    "    num_adjs_premise = len(adj_premise)\n",
    "    num_adjs_hypothesis = len(adj_hypothesis)\n",
    "    adjs_difference = np.abs(num_adjs_premise - num_adjs_hypothesis)\n",
    "    \n",
    "    #Extract the words tagged as adverbs and get the number of overlapping adverbs in both\n",
    "    \n",
    "    adverbs_premise = list(word for word in premise_tagged if word[1] == 'RB' or word[1] == 'RBS' or word[1] == 'RBR')\n",
    "    adverbs_hypothesis = list(word for word in hypothesis_tagged if word[1] == 'RB' \n",
    "                              or word[1] == 'RBS' or word[1] == 'RBR')\n",
    "    overlapping_adverbs = len(list(set(adverbs_premise) & set(adverbs_hypothesis)))\n",
    "    \n",
    "    #Get the number of adverbs in the premise and the hypothesis and their difference\n",
    "    \n",
    "    num_adverbs_premise = len(adverbs_premise)\n",
    "    num_adverbs_hypothesis = len(adverbs_hypothesis)\n",
    "    adverbs_difference = np.abs(num_adverbs_premise - num_adverbs_hypothesis)\n",
    "    \n",
    "    \n",
    "    #Number of explicit negations in the premise\n",
    "    #Number of explicit negations in the hypothesis\n",
    "    \n",
    "    negations = ['not', 'no', 'none', 'nobody', 'noone', 'any', 'never', \"doesn't\", \"don't\", \"isn't\", \"aren't\"]\n",
    "    negations_premise = list(word for word in premise_words if word in negations)\n",
    "    negations_hypothesis = list(word for word in hypothesis_words if word in negations)\n",
    "    overlapping_negations = len(list(set(negations_premise) & set(negations_hypothesis)))\n",
    "    \n",
    "    num_negations_premise = len(negations_premise)\n",
    "    num_negations_hypothesis = len(negations_hypothesis)\n",
    "    negations_difference = np.abs(num_negations_premise - num_negations_hypothesis)\n",
    "    \n",
    "    #Modal words\n",
    "    \n",
    "    modals_premise = list(word for word in premise_tagged if word[1] == 'MD')\n",
    "    modals_hypothesis = list(word for word in hypothesis_tagged if word[1] == 'MD')\n",
    "    overlapping_modals = len(list(set(modals_premise) & set(modals_hypothesis)))\n",
    "    \n",
    "    num_modals_premise = len(modals_premise)\n",
    "    num_modals_hypothesis = len(modals_hypothesis)\n",
    "    modals_difference = np.abs(num_modals_premise - num_modals_hypothesis)  \n",
    " \n",
    "    #Find the number of synonyms and antonyms that occur from the premise in the hypothesis\n",
    "    \n",
    "    synonyms = []\n",
    "    antonyms = []\n",
    "    num_synonyms = 0\n",
    "    num_antonyms = 0\n",
    "    for word in premise_words:\n",
    "        for syn in wordnet.synsets(word):\n",
    "            for l in syn.lemmas():\n",
    "                synonyms.append(l.name())\n",
    "                if l.antonyms():\n",
    "                    antonyms.append(l.antonyms()[0].name())\n",
    "    \n",
    "    for word in hypothesis_words:\n",
    "        if word in synonyms:\n",
    "            num_synonyms+=1\n",
    "        if word in antonyms:\n",
    "            num_antonyms+=1\n",
    "        \n",
    "\n",
    "\n",
    "    features = [\n",
    "        dist,\n",
    "        bleu_score,\n",
    "        meteor_score,\n",
    "        num_words_premise, \n",
    "        num_words_hypothesis,\n",
    "        word_difference,\n",
    "        num_chars_premise,\n",
    "        num_chars_hypothesis,\n",
    "        character_difference,\n",
    "        num_unique_words_premise,\n",
    "        num_unique_words_hypothesis,\n",
    "        unique_word_difference,\n",
    "        overlapping_words,\n",
    "        overlapping_nouns,\n",
    "        num_nouns_premise,\n",
    "        num_nouns_hypothesis,\n",
    "        noun_difference,\n",
    "        overlapping_verbs,\n",
    "        num_verbs_premise,\n",
    "        num_verbs_hypothesis,\n",
    "        verb_difference,\n",
    "        num_adjs_premise,\n",
    "        num_adjs_hypothesis,\n",
    "        adjs_difference,\n",
    "        num_adverbs_premise,\n",
    "        num_adverbs_hypothesis,\n",
    "        adverbs_difference,\n",
    "        num_negations_premise,\n",
    "        num_negations_hypothesis,\n",
    "        overlapping_negations,\n",
    "        negations_difference,\n",
    "        overlapping_modals,\n",
    "        num_modals_premise,\n",
    "        num_modals_hypothesis,\n",
    "        modals_difference,\n",
    "        num_synonyms,\n",
    "        num_antonyms\n",
    "    ]\n",
    "    \n",
    "    #features = pandas.DataFrame(features)\n",
    "    return features"
   ]
  },
  {
   "cell_type": "code",
   "execution_count": 8,
   "metadata": {
    "scrolled": false
   },
   "outputs": [],
   "source": [
    "#Build the feature arrays by iterating through all of the train and test data and creating feature vectors\n",
    "\n",
    "hand_crafted_feats_train = []\n",
    "for index, row in train.iterrows():\n",
    "    hand_crafted_feats_train.append(hand_crafted_features(train.loc[index,'premise'], \n",
    "                                                          train.loc[index,'hypothesis']))"
   ]
  },
  {
   "cell_type": "markdown",
   "metadata": {},
   "source": [
    "Load the gensim libraries for word embeddings"
   ]
  },
  {
   "cell_type": "code",
   "execution_count": 9,
   "metadata": {},
   "outputs": [],
   "source": [
    "# Read the word embeddings file\n",
    "\n",
    "def read_data(file_name):\n",
    "    with open(file_name,'r',encoding=\"utf8\") as f:\n",
    "        word_vocab = set()                                                   # Not using list to avoid duplicate entry\n",
    "        word2vector = {}\n",
    "        for line in f:                                                       # Read a line in the file \n",
    "                                                                             # (word, coodrdinates)\n",
    "            line_ = line.strip()                                             # Remove white space\n",
    "            words_Vec = line_.split()                                        # Split the line with white space to get \n",
    "                                                                             # the word and its coordinates                                                              \n",
    "            word_vocab.add(words_Vec[0])                                     # The first element is the word so we\n",
    "                                                                             # add it to the list of unique words\n",
    "            word2vector[words_Vec[0]] = np.array(words_Vec[1:],dtype=float)  # The entry in the dictionary is the word\n",
    "                                                                             # as a key and the coordinates as a value\n",
    "    return word_vocab, word2vector"
   ]
  },
  {
   "cell_type": "code",
   "execution_count": 10,
   "metadata": {},
   "outputs": [],
   "source": [
    "vocab, w2v = read_data(\"glove.6B.200d.txt\")         # From experimentations with other glove pre-trained vectors,\n",
    "                                                    # this one yields the best results"
   ]
  },
  {
   "cell_type": "markdown",
   "metadata": {},
   "source": [
    "Present the sentences as embeddings"
   ]
  },
  {
   "cell_type": "code",
   "execution_count": 11,
   "metadata": {},
   "outputs": [],
   "source": [
    "# The function takes a sentence as a list of words, iterates through every word, looks it up in the dictionary, if\n",
    "# it exists, it adds its embeddings to the total sum. If it doesn't, it adds zero. \n",
    "# It outputs the average of all separate word embeddings in the sentence.\n",
    "\n",
    "def avg_word_vectors(words, model, vocabulary, num_features):\n",
    "    feature_vector = np.zeros((num_features,), dtype = \"float64\")          # Create a vector of zeros with the number \n",
    "                                                                           # of features we'll have as a dimension\n",
    "    nwords = 0.\n",
    "    for word in words:                                                     # Iterate through the words in the sentence\n",
    "        if word in vocabulary:                                             # If exists in the vocab (has embedding)             \n",
    "            nwords = nwords + 1.                                           # Increase the couner of total words\n",
    "            feature_vector = np.add(feature_vector, model[word])           # Add the embeddings of the word to the \n",
    "                                                                           # overall sum of embeddings\n",
    "    if nwords:                                                             # If we have more than 0 words in the vocab\n",
    "        feature_vector = np.divide(feature_vector, nwords)                 # Get the average word vector by diving to \n",
    "                                                                           # the total number of vocab words\n",
    "    return feature_vector  "
   ]
  },
  {
   "cell_type": "code",
   "execution_count": 12,
   "metadata": {},
   "outputs": [],
   "source": [
    "# Takes a corpus of sentences, iterates through them, first splits them into words, then calls the function to \n",
    "# translate each sentence into a list of embeddings that will be treated as features, then appends them in one \n",
    "# list of lists that will contain all the embeddings in the sentence\n",
    "\n",
    "def vectorizer(corpus, model, vocab, num_features):\n",
    "    vocabulary = set(vocab)  \n",
    "    features = []\n",
    "    for sentence in corpus:\n",
    "        if sentence[-1] in ('?','.','!', ';', ','):\n",
    "            sentence = sentence[:-1]\n",
    "        sentence_words = sentence.lower().split()\n",
    "        features.append(avg_word_vectors(sentence_words, model, vocabulary, num_features))\n",
    "    #features = [average_word_vectors(sentence, model, vocabulary, num_features) for sentence in corpus]\n",
    "    return np.array(features)"
   ]
  },
  {
   "cell_type": "code",
   "execution_count": null,
   "metadata": {},
   "outputs": [],
   "source": [
    "# After we get the embeddings feature for both the premise and the hypothesis, we then concatenate them together\n",
    "embeddings_premise = vectorizer(lower_letters(train['premise']), w2v, vocab, 200)\n",
    "embeddings_hypothesis = vectorizer(lower_letters(train['hypothesis']), w2v, vocab, 200)\n",
    "#embeddings = np.subtract(embeddings_premise,embeddings_hypothesis)\n",
    "embeddings = np.concatenate((embeddings_premise, embeddings_hypothesis), axis = 1)"
   ]
  },
  {
   "cell_type": "markdown",
   "metadata": {},
   "source": [
    "Machine Learning"
   ]
  },
  {
   "cell_type": "code",
   "execution_count": null,
   "metadata": {},
   "outputs": [],
   "source": [
    "# Creates the feature vector by concatenating the separately extracted features\n",
    "# Normalizes the features to be in the same range\n",
    "# Splits the dataset of features into training and test sets by splitting 80%:20%\n",
    "\n",
    "features = np.concatenate((hand_crafted_feats_train,embeddings, ngram_feats_hypo), axis = 1)\n",
    "features = preprocessing.normalize(features)\n",
    "X = pd.DataFrame(features)\n",
    "y = train['label'].astype(int)\n",
    "\n",
    "X_train, X_test, y_train, y_test = train_test_split(X, y, random_state = 1000, test_size=0.2)"
   ]
  },
  {
   "cell_type": "code",
   "execution_count": null,
   "metadata": {},
   "outputs": [],
   "source": [
    "# Plots the train history for the keras model\n",
    "\n",
    "def show_train_history(train_history,train,validation):\n",
    "    plt.plot(train_history.history[train])\n",
    "    plt.plot(train_history.history[validation])\n",
    "    plt.title('Train History')\n",
    "    plt.ylabel(train)\n",
    "    plt.xlabel('Epoch')\n",
    "    plt.legend(['train', 'validation'], loc='best')\n",
    "    plt.show()"
   ]
  },
  {
   "cell_type": "markdown",
   "metadata": {},
   "source": [
    "Keras model. Built with help of the notebook https://www.kaggle.com/randyrose2017/for-beginners-using-keras-to-build-models"
   ]
  },
  {
   "cell_type": "code",
   "execution_count": 329,
   "metadata": {},
   "outputs": [
    {
     "name": "stdout",
     "output_type": "stream",
     "text": [
      "Model: \"sequential_86\"\n",
      "_________________________________________________________________\n",
      "Layer (type)                 Output Shape              Param #   \n",
      "=================================================================\n",
      "dense_258 (Dense)            (None, 400)               255200    \n",
      "_________________________________________________________________\n",
      "dense_259 (Dense)            (None, 100)               40100     \n",
      "_________________________________________________________________\n",
      "dropout_89 (Dropout)         (None, 100)               0         \n",
      "_________________________________________________________________\n",
      "dense_260 (Dense)            (None, 3)                 303       \n",
      "=================================================================\n",
      "Total params: 295,603\n",
      "Trainable params: 295,603\n",
      "Non-trainable params: 0\n",
      "_________________________________________________________________\n",
      "None\n"
     ]
    }
   ],
   "source": [
    "model = Sequential() \n",
    "model.add(Dense(units=400, input_dim=637, activation='relu'))\n",
    "model.add(Dense(units=100,kernel_initializer='uniform', activation='sigmoid'))\n",
    "model.add(Dropout(0.6))\n",
    "model.add(Dense(units=3, activation='softmax'))\n",
    "print(model.summary()) #for showing the structure and parameters\n",
    "\n",
    "model.compile(loss='binary_crossentropy', optimizer='adam', metrics=['accuracy'])"
   ]
  },
  {
   "cell_type": "code",
   "execution_count": 330,
   "metadata": {
    "scrolled": true
   },
   "outputs": [
    {
     "name": "stdout",
     "output_type": "stream",
     "text": [
      "Epoch 1/100\n",
      "7/7 - 0s - loss: 1.3572 - accuracy: 0.3208 - val_loss: 1.0827 - val_accuracy: 0.3214\n",
      "Epoch 2/100\n",
      "7/7 - 0s - loss: 1.3042 - accuracy: 0.3380 - val_loss: 1.0913 - val_accuracy: 0.3534\n",
      "Epoch 3/100\n",
      "7/7 - 0s - loss: 1.2884 - accuracy: 0.3387 - val_loss: 1.0823 - val_accuracy: 0.3534\n",
      "Epoch 4/100\n",
      "7/7 - 0s - loss: 1.2504 - accuracy: 0.3348 - val_loss: 1.0797 - val_accuracy: 0.3218\n",
      "Epoch 5/100\n",
      "7/7 - 0s - loss: 1.2181 - accuracy: 0.3355 - val_loss: 1.0801 - val_accuracy: 0.3214\n",
      "Epoch 6/100\n",
      "7/7 - 0s - loss: 1.1753 - accuracy: 0.3331 - val_loss: 1.0792 - val_accuracy: 0.3558\n",
      "Epoch 7/100\n",
      "7/7 - 0s - loss: 1.1392 - accuracy: 0.3386 - val_loss: 1.0791 - val_accuracy: 0.3451\n",
      "Epoch 8/100\n",
      "7/7 - 0s - loss: 1.1166 - accuracy: 0.3352 - val_loss: 1.0791 - val_accuracy: 0.3386\n",
      "Epoch 9/100\n",
      "7/7 - 0s - loss: 1.1054 - accuracy: 0.3414 - val_loss: 1.0791 - val_accuracy: 0.3537\n",
      "Epoch 10/100\n",
      "7/7 - 0s - loss: 1.0999 - accuracy: 0.3404 - val_loss: 1.0791 - val_accuracy: 0.3620\n",
      "Epoch 11/100\n",
      "7/7 - 0s - loss: 1.0975 - accuracy: 0.3328 - val_loss: 1.0791 - val_accuracy: 0.3517\n",
      "Epoch 12/100\n",
      "7/7 - 0s - loss: 1.0962 - accuracy: 0.3365 - val_loss: 1.0791 - val_accuracy: 0.3541\n",
      "Epoch 13/100\n",
      "7/7 - 0s - loss: 1.0956 - accuracy: 0.3404 - val_loss: 1.0791 - val_accuracy: 0.3599\n",
      "Epoch 14/100\n",
      "7/7 - 0s - loss: 1.0952 - accuracy: 0.3417 - val_loss: 1.0791 - val_accuracy: 0.3568\n",
      "Epoch 15/100\n",
      "7/7 - 0s - loss: 1.0949 - accuracy: 0.3514 - val_loss: 1.0791 - val_accuracy: 0.3558\n",
      "Epoch 16/100\n",
      "7/7 - 0s - loss: 1.0947 - accuracy: 0.3427 - val_loss: 1.0791 - val_accuracy: 0.3534\n",
      "Epoch 17/100\n",
      "7/7 - 0s - loss: 1.0946 - accuracy: 0.3293 - val_loss: 1.0791 - val_accuracy: 0.3565\n",
      "Epoch 18/100\n",
      "7/7 - 0s - loss: 1.0944 - accuracy: 0.3361 - val_loss: 1.0791 - val_accuracy: 0.3517\n",
      "Epoch 19/100\n",
      "7/7 - 0s - loss: 1.0943 - accuracy: 0.3317 - val_loss: 1.0791 - val_accuracy: 0.3534\n",
      "Epoch 20/100\n",
      "7/7 - 0s - loss: 1.0943 - accuracy: 0.3377 - val_loss: 1.0791 - val_accuracy: 0.3530\n",
      "Epoch 21/100\n",
      "7/7 - 0s - loss: 1.0942 - accuracy: 0.3404 - val_loss: 1.0791 - val_accuracy: 0.3589\n",
      "Epoch 22/100\n",
      "7/7 - 0s - loss: 1.0941 - accuracy: 0.3376 - val_loss: 1.0791 - val_accuracy: 0.3565\n",
      "Epoch 23/100\n",
      "7/7 - 0s - loss: 1.0941 - accuracy: 0.3241 - val_loss: 1.0791 - val_accuracy: 0.3603\n",
      "Epoch 24/100\n",
      "7/7 - 0s - loss: 1.0941 - accuracy: 0.3401 - val_loss: 1.0791 - val_accuracy: 0.3616\n",
      "Epoch 25/100\n",
      "7/7 - 0s - loss: 1.0940 - accuracy: 0.3371 - val_loss: 1.0791 - val_accuracy: 0.3603\n",
      "Epoch 26/100\n",
      "7/7 - 0s - loss: 1.0940 - accuracy: 0.3364 - val_loss: 1.0791 - val_accuracy: 0.3613\n",
      "Epoch 27/100\n",
      "7/7 - 0s - loss: 1.0940 - accuracy: 0.3297 - val_loss: 1.0791 - val_accuracy: 0.3561\n",
      "Epoch 28/100\n",
      "7/7 - 0s - loss: 1.0939 - accuracy: 0.3398 - val_loss: 1.0791 - val_accuracy: 0.3551\n",
      "Epoch 29/100\n",
      "7/7 - 0s - loss: 1.0939 - accuracy: 0.3303 - val_loss: 1.0791 - val_accuracy: 0.3565\n",
      "Epoch 30/100\n",
      "7/7 - 0s - loss: 1.0939 - accuracy: 0.3339 - val_loss: 1.0791 - val_accuracy: 0.3551\n",
      "Epoch 31/100\n",
      "7/7 - 0s - loss: 1.0939 - accuracy: 0.3426 - val_loss: 1.0791 - val_accuracy: 0.3561\n",
      "Epoch 32/100\n",
      "7/7 - 0s - loss: 1.0939 - accuracy: 0.3423 - val_loss: 1.0791 - val_accuracy: 0.3589\n",
      "Epoch 33/100\n",
      "7/7 - 0s - loss: 1.0938 - accuracy: 0.3376 - val_loss: 1.0791 - val_accuracy: 0.3561\n",
      "Epoch 34/100\n",
      "7/7 - 0s - loss: 1.0938 - accuracy: 0.3414 - val_loss: 1.0791 - val_accuracy: 0.3579\n",
      "Epoch 35/100\n",
      "7/7 - 0s - loss: 1.0938 - accuracy: 0.3440 - val_loss: 1.0791 - val_accuracy: 0.3558\n",
      "Epoch 36/100\n",
      "7/7 - 0s - loss: 1.0938 - accuracy: 0.3284 - val_loss: 1.0791 - val_accuracy: 0.3575\n",
      "Epoch 37/100\n",
      "7/7 - 0s - loss: 1.0938 - accuracy: 0.3355 - val_loss: 1.0791 - val_accuracy: 0.3579\n",
      "Epoch 38/100\n",
      "7/7 - 0s - loss: 1.0938 - accuracy: 0.3423 - val_loss: 1.0791 - val_accuracy: 0.3524\n",
      "Epoch 39/100\n",
      "7/7 - 0s - loss: 1.0938 - accuracy: 0.3377 - val_loss: 1.0791 - val_accuracy: 0.3544\n",
      "Epoch 40/100\n",
      "7/7 - 0s - loss: 1.0938 - accuracy: 0.3284 - val_loss: 1.0791 - val_accuracy: 0.3544\n",
      "Epoch 41/100\n",
      "7/7 - 0s - loss: 1.0938 - accuracy: 0.3383 - val_loss: 1.0791 - val_accuracy: 0.3520\n",
      "Epoch 42/100\n",
      "7/7 - 0s - loss: 1.0938 - accuracy: 0.3412 - val_loss: 1.0791 - val_accuracy: 0.3548\n",
      "Epoch 43/100\n",
      "7/7 - 0s - loss: 1.0938 - accuracy: 0.3367 - val_loss: 1.0791 - val_accuracy: 0.3503\n",
      "Epoch 44/100\n",
      "7/7 - 0s - loss: 1.0938 - accuracy: 0.3389 - val_loss: 1.0791 - val_accuracy: 0.3548\n",
      "Epoch 45/100\n",
      "7/7 - 0s - loss: 1.0938 - accuracy: 0.3415 - val_loss: 1.0791 - val_accuracy: 0.3544\n",
      "Epoch 46/100\n",
      "7/7 - 0s - loss: 1.0938 - accuracy: 0.3451 - val_loss: 1.0791 - val_accuracy: 0.3534\n",
      "Epoch 47/100\n",
      "7/7 - 0s - loss: 1.0938 - accuracy: 0.3464 - val_loss: 1.0791 - val_accuracy: 0.3537\n",
      "Epoch 48/100\n",
      "7/7 - 0s - loss: 1.0938 - accuracy: 0.3331 - val_loss: 1.0791 - val_accuracy: 0.3534\n",
      "Epoch 49/100\n",
      "7/7 - 0s - loss: 1.0938 - accuracy: 0.3420 - val_loss: 1.0791 - val_accuracy: 0.3513\n",
      "Epoch 50/100\n",
      "7/7 - 0s - loss: 1.0938 - accuracy: 0.3451 - val_loss: 1.0791 - val_accuracy: 0.3551\n",
      "Epoch 51/100\n",
      "7/7 - 0s - loss: 1.0938 - accuracy: 0.3365 - val_loss: 1.0791 - val_accuracy: 0.3517\n",
      "Epoch 52/100\n",
      "7/7 - 0s - loss: 1.0938 - accuracy: 0.3437 - val_loss: 1.0791 - val_accuracy: 0.3548\n",
      "Epoch 53/100\n",
      "7/7 - 0s - loss: 1.0937 - accuracy: 0.3427 - val_loss: 1.0791 - val_accuracy: 0.3510\n",
      "Epoch 54/100\n",
      "7/7 - 0s - loss: 1.0937 - accuracy: 0.3399 - val_loss: 1.0791 - val_accuracy: 0.3544\n",
      "Epoch 55/100\n",
      "7/7 - 0s - loss: 1.0937 - accuracy: 0.3379 - val_loss: 1.0791 - val_accuracy: 0.3554\n",
      "Epoch 56/100\n",
      "7/7 - 0s - loss: 1.0937 - accuracy: 0.3367 - val_loss: 1.0791 - val_accuracy: 0.3561\n",
      "Epoch 57/100\n",
      "7/7 - 0s - loss: 1.0937 - accuracy: 0.3424 - val_loss: 1.0791 - val_accuracy: 0.3572\n",
      "Epoch 58/100\n",
      "7/7 - 0s - loss: 1.0937 - accuracy: 0.3430 - val_loss: 1.0791 - val_accuracy: 0.3558\n",
      "Epoch 59/100\n",
      "7/7 - 0s - loss: 1.0937 - accuracy: 0.3420 - val_loss: 1.0791 - val_accuracy: 0.3561\n",
      "Epoch 60/100\n",
      "7/7 - 0s - loss: 1.0937 - accuracy: 0.3507 - val_loss: 1.0791 - val_accuracy: 0.3544\n",
      "Epoch 61/100\n",
      "7/7 - 0s - loss: 1.0937 - accuracy: 0.3359 - val_loss: 1.0791 - val_accuracy: 0.3572\n",
      "Epoch 62/100\n",
      "7/7 - 0s - loss: 1.0937 - accuracy: 0.3305 - val_loss: 1.0791 - val_accuracy: 0.3575\n",
      "Epoch 63/100\n",
      "7/7 - 0s - loss: 1.0937 - accuracy: 0.3479 - val_loss: 1.0791 - val_accuracy: 0.3572\n",
      "Epoch 64/100\n",
      "7/7 - 0s - loss: 1.0937 - accuracy: 0.3345 - val_loss: 1.0791 - val_accuracy: 0.3520\n",
      "Epoch 65/100\n",
      "7/7 - 0s - loss: 1.0937 - accuracy: 0.3465 - val_loss: 1.0791 - val_accuracy: 0.3568\n",
      "Epoch 66/100\n",
      "7/7 - 0s - loss: 1.0937 - accuracy: 0.3380 - val_loss: 1.0791 - val_accuracy: 0.3575\n",
      "Epoch 67/100\n",
      "7/7 - 0s - loss: 1.0937 - accuracy: 0.3409 - val_loss: 1.0791 - val_accuracy: 0.3541\n",
      "Epoch 68/100\n",
      "7/7 - 0s - loss: 1.0937 - accuracy: 0.3305 - val_loss: 1.0791 - val_accuracy: 0.3575\n",
      "Epoch 69/100\n",
      "7/7 - 0s - loss: 1.0937 - accuracy: 0.3305 - val_loss: 1.0791 - val_accuracy: 0.3530\n",
      "Epoch 70/100\n",
      "7/7 - 0s - loss: 1.0937 - accuracy: 0.3339 - val_loss: 1.0791 - val_accuracy: 0.3561\n",
      "Epoch 71/100\n",
      "7/7 - 0s - loss: 1.0937 - accuracy: 0.3365 - val_loss: 1.0791 - val_accuracy: 0.3572\n",
      "Epoch 72/100\n",
      "7/7 - 0s - loss: 1.0937 - accuracy: 0.3390 - val_loss: 1.0791 - val_accuracy: 0.3554\n",
      "Epoch 73/100\n",
      "7/7 - 0s - loss: 1.0937 - accuracy: 0.3454 - val_loss: 1.0791 - val_accuracy: 0.3551\n",
      "Epoch 74/100\n",
      "7/7 - 0s - loss: 1.0937 - accuracy: 0.3420 - val_loss: 1.0791 - val_accuracy: 0.3541\n",
      "Epoch 75/100\n",
      "7/7 - 0s - loss: 1.0937 - accuracy: 0.3376 - val_loss: 1.0791 - val_accuracy: 0.3565\n",
      "Epoch 76/100\n",
      "7/7 - 0s - loss: 1.0937 - accuracy: 0.3470 - val_loss: 1.0791 - val_accuracy: 0.3603\n",
      "Epoch 77/100\n",
      "7/7 - 0s - loss: 1.0937 - accuracy: 0.3455 - val_loss: 1.0791 - val_accuracy: 0.3568\n",
      "Epoch 78/100\n",
      "7/7 - 0s - loss: 1.0937 - accuracy: 0.3399 - val_loss: 1.0791 - val_accuracy: 0.3537\n",
      "Epoch 79/100\n",
      "7/7 - 0s - loss: 1.0937 - accuracy: 0.3303 - val_loss: 1.0791 - val_accuracy: 0.3558\n",
      "Epoch 80/100\n",
      "7/7 - 0s - loss: 1.0937 - accuracy: 0.3408 - val_loss: 1.0791 - val_accuracy: 0.3579\n",
      "Epoch 81/100\n",
      "7/7 - 0s - loss: 1.0937 - accuracy: 0.3249 - val_loss: 1.0791 - val_accuracy: 0.3585\n",
      "Epoch 82/100\n",
      "7/7 - 0s - loss: 1.0937 - accuracy: 0.3398 - val_loss: 1.0791 - val_accuracy: 0.3599\n",
      "Epoch 83/100\n",
      "7/7 - 0s - loss: 1.0937 - accuracy: 0.3377 - val_loss: 1.0791 - val_accuracy: 0.3561\n",
      "Epoch 84/100\n",
      "7/7 - 0s - loss: 1.0937 - accuracy: 0.3437 - val_loss: 1.0791 - val_accuracy: 0.3544\n"
     ]
    },
    {
     "name": "stdout",
     "output_type": "stream",
     "text": [
      "Epoch 85/100\n",
      "7/7 - 0s - loss: 1.0937 - accuracy: 0.3317 - val_loss: 1.0791 - val_accuracy: 0.3603\n",
      "Epoch 86/100\n",
      "7/7 - 0s - loss: 1.0937 - accuracy: 0.3373 - val_loss: 1.0791 - val_accuracy: 0.3634\n",
      "Epoch 87/100\n",
      "7/7 - 0s - loss: 1.0937 - accuracy: 0.3374 - val_loss: 1.0791 - val_accuracy: 0.3630\n",
      "Epoch 88/100\n",
      "7/7 - 0s - loss: 1.0937 - accuracy: 0.3346 - val_loss: 1.0791 - val_accuracy: 0.3603\n",
      "Epoch 89/100\n",
      "7/7 - 0s - loss: 1.0937 - accuracy: 0.3395 - val_loss: 1.0791 - val_accuracy: 0.3582\n",
      "Epoch 90/100\n",
      "7/7 - 0s - loss: 1.0937 - accuracy: 0.3415 - val_loss: 1.0791 - val_accuracy: 0.3568\n",
      "Epoch 91/100\n",
      "7/7 - 0s - loss: 1.0937 - accuracy: 0.3331 - val_loss: 1.0791 - val_accuracy: 0.3572\n",
      "Epoch 92/100\n",
      "7/7 - 0s - loss: 1.0937 - accuracy: 0.3368 - val_loss: 1.0791 - val_accuracy: 0.3561\n",
      "Epoch 93/100\n",
      "7/7 - 0s - loss: 1.0937 - accuracy: 0.3340 - val_loss: 1.0791 - val_accuracy: 0.3541\n",
      "Epoch 94/100\n",
      "7/7 - 0s - loss: 1.0937 - accuracy: 0.3317 - val_loss: 1.0791 - val_accuracy: 0.3568\n",
      "Epoch 95/100\n",
      "7/7 - 0s - loss: 1.0937 - accuracy: 0.3323 - val_loss: 1.0791 - val_accuracy: 0.3558\n",
      "Epoch 96/100\n",
      "7/7 - 0s - loss: 1.0937 - accuracy: 0.3337 - val_loss: 1.0791 - val_accuracy: 0.3541\n",
      "Epoch 97/100\n",
      "7/7 - 0s - loss: 1.0937 - accuracy: 0.3325 - val_loss: 1.0791 - val_accuracy: 0.3582\n",
      "Epoch 98/100\n",
      "7/7 - 0s - loss: 1.0937 - accuracy: 0.3396 - val_loss: 1.0791 - val_accuracy: 0.3592\n",
      "Epoch 99/100\n",
      "7/7 - 0s - loss: 1.0937 - accuracy: 0.3404 - val_loss: 1.0791 - val_accuracy: 0.3644\n",
      "Epoch 100/100\n",
      "7/7 - 0s - loss: 1.0937 - accuracy: 0.3353 - val_loss: 1.0791 - val_accuracy: 0.3651\n"
     ]
    },
    {
     "data": {
      "image/png": "[encoded data removed]",
      "text/plain": [
       "<Figure size 432x288 with 1 Axes>"
      ]
     },
     "metadata": {
      "needs_background": "light"
     },
     "output_type": "display_data"
    },
    {
     "data": {
      "image/png": "[encoded data removed]",
      "text/plain": [
       "<Figure size 432x288 with 1 Axes>"
      ]
     },
     "metadata": {
      "needs_background": "light"
     },
     "output_type": "display_data"
    }
   ],
   "source": [
    "# Train the model\n",
    "# Verbose=2, showing loss and accuracy change timely\n",
    "train_history = model.fit(x=X_train, y=y_train, validation_split=0.3, epochs=100, batch_size=1000, verbose=2) \n",
    "\n",
    "#visualize the loss and accuracy after each epoch\n",
    "show_train_history(train_history,'accuracy','val_accuracy')\n",
    "show_train_history(train_history,'loss','val_loss')"
   ]
  },
  {
   "cell_type": "code",
   "execution_count": 331,
   "metadata": {},
   "outputs": [
    {
     "name": "stdout",
     "output_type": "stream",
     "text": [
      "76/76 [==============================] - 0s 617us/step - loss: 1.1038 - accuracy: 0.3494\n",
      "\n",
      "\n",
      "accuracy= 0.3494224548339844\n"
     ]
    }
   ],
   "source": [
    "# Evaluate the model\n",
    "scores = model.evaluate(X_test, y_test)\n",
    "print('\\n')\n",
    "print('accuracy=',scores[1])"
   ]
  },
  {
   "cell_type": "code",
   "execution_count": 332,
   "metadata": {},
   "outputs": [
    {
     "name": "stdout",
     "output_type": "stream",
     "text": [
      "              precision    recall  f1-score   support\n",
      "\n",
      "           0       0.33      0.67      0.45       807\n",
      "           1       0.39      0.14      0.20       792\n",
      "           2       0.37      0.24      0.29       825\n",
      "\n",
      "    accuracy                           0.35      2424\n",
      "   macro avg       0.37      0.35      0.31      2424\n",
      "weighted avg       0.37      0.35      0.31      2424\n",
      "\n"
     ]
    }
   ],
   "source": [
    "# Generate a classification report \n",
    "\n",
    "prediction = model.predict_classes(X_test)\n",
    "report = classification_report(y_test,prediction)\n",
    "print(report)"
   ]
  },
  {
   "cell_type": "markdown",
   "metadata": {},
   "source": [
    "Support Vector Machines"
   ]
  },
  {
   "cell_type": "code",
   "execution_count": 334,
   "metadata": {},
   "outputs": [
    {
     "name": "stdout",
     "output_type": "stream",
     "text": [
      "              precision    recall  f1-score   support\n",
      "\n",
      "           0       0.52      0.43      0.47       807\n",
      "           1       0.47      0.43      0.45       792\n",
      "           2       0.41      0.50      0.45       825\n",
      "\n",
      "    accuracy                           0.46      2424\n",
      "   macro avg       0.46      0.46      0.46      2424\n",
      "weighted avg       0.46      0.46      0.46      2424\n",
      "\n"
     ]
    }
   ],
   "source": [
    "clf_svm = SVC(C = 2)\n",
    "model_svm = clf_svm.fit(X_train, y_train)\n",
    "y_preds_svm = model_svm.predict(X_test)\n",
    "report_svm = classification_report(y_test,y_preds_svm)\n",
    "print(report_svm)"
   ]
  },
  {
   "cell_type": "markdown",
   "metadata": {},
   "source": [
    "Multi-Layered Perceptron (Simple NN)"
   ]
  },
  {
   "cell_type": "code",
   "execution_count": 335,
   "metadata": {},
   "outputs": [
    {
     "name": "stdout",
     "output_type": "stream",
     "text": [
      "              precision    recall  f1-score   support\n",
      "\n",
      "           0       0.45      0.44      0.45       807\n",
      "           1       0.45      0.55      0.50       792\n",
      "           2       0.46      0.38      0.41       825\n",
      "\n",
      "    accuracy                           0.45      2424\n",
      "   macro avg       0.45      0.46      0.45      2424\n",
      "weighted avg       0.45      0.45      0.45      2424\n",
      "\n"
     ]
    }
   ],
   "source": [
    "clf_neuro = MLPClassifier(learning_rate='adaptive', batch_size=64, max_iter=900)\n",
    "neuro_model = clf_neuro.fit(X_train, y_train)\n",
    "y_preds_neuro = neuro_model.predict(X_test)\n",
    "neuro_report = classification_report(y_test, y_preds_neuro)\n",
    "print(neuro_report)"
   ]
  },
  {
   "cell_type": "markdown",
   "metadata": {},
   "source": [
    "Logistic Regression"
   ]
  },
  {
   "cell_type": "code",
   "execution_count": 353,
   "metadata": {},
   "outputs": [
    {
     "ename": "ValueError",
     "evalue": "Only 'saga' solver supports elasticnet penalty, got solver=liblinear.",
     "output_type": "error",
     "traceback": [
      "\u001b[1;31m---------------------------------------------------------------------------\u001b[0m",
      "\u001b[1;31mValueError\u001b[0m                                Traceback (most recent call last)",
      "\u001b[1;32m<ipython-input-353-cfc0e99b719a>\u001b[0m in \u001b[0;36m<module>\u001b[1;34m\u001b[0m\n\u001b[0;32m      1\u001b[0m \u001b[0mclf_log\u001b[0m \u001b[1;33m=\u001b[0m \u001b[0mLogisticRegression\u001b[0m\u001b[1;33m(\u001b[0m\u001b[0mC\u001b[0m\u001b[1;33m=\u001b[0m\u001b[1;36m2\u001b[0m\u001b[1;33m,\u001b[0m \u001b[0mmax_iter\u001b[0m\u001b[1;33m=\u001b[0m\u001b[1;36m500\u001b[0m\u001b[1;33m,\u001b[0m \u001b[0mpenalty\u001b[0m \u001b[1;33m=\u001b[0m \u001b[1;34m'elasticnet'\u001b[0m\u001b[1;33m,\u001b[0m \u001b[0msolver\u001b[0m \u001b[1;33m=\u001b[0m \u001b[1;34m'liblinear'\u001b[0m\u001b[1;33m,\u001b[0m \u001b[1;33m)\u001b[0m\u001b[1;33m\u001b[0m\u001b[1;33m\u001b[0m\u001b[0m\n\u001b[1;32m----> 2\u001b[1;33m \u001b[0mmodel_log\u001b[0m \u001b[1;33m=\u001b[0m \u001b[0mclf_log\u001b[0m\u001b[1;33m.\u001b[0m\u001b[0mfit\u001b[0m\u001b[1;33m(\u001b[0m\u001b[0mX_train\u001b[0m\u001b[1;33m,\u001b[0m\u001b[0my_train\u001b[0m\u001b[1;33m)\u001b[0m\u001b[1;33m\u001b[0m\u001b[1;33m\u001b[0m\u001b[0m\n\u001b[0m\u001b[0;32m      3\u001b[0m \u001b[0my_preds_log\u001b[0m \u001b[1;33m=\u001b[0m \u001b[0mmodel_log\u001b[0m\u001b[1;33m.\u001b[0m\u001b[0mpredict\u001b[0m\u001b[1;33m(\u001b[0m\u001b[0mX_test\u001b[0m\u001b[1;33m)\u001b[0m\u001b[1;33m\u001b[0m\u001b[1;33m\u001b[0m\u001b[0m\n\u001b[0;32m      4\u001b[0m \u001b[0mreport_log\u001b[0m \u001b[1;33m=\u001b[0m \u001b[0mclassification_report\u001b[0m\u001b[1;33m(\u001b[0m \u001b[0my_test\u001b[0m\u001b[1;33m,\u001b[0m \u001b[0my_preds_log\u001b[0m \u001b[1;33m)\u001b[0m\u001b[1;33m\u001b[0m\u001b[1;33m\u001b[0m\u001b[0m\n\u001b[0;32m      5\u001b[0m \u001b[0mprint\u001b[0m\u001b[1;33m(\u001b[0m\u001b[0mreport_log\u001b[0m\u001b[1;33m)\u001b[0m\u001b[1;33m\u001b[0m\u001b[1;33m\u001b[0m\u001b[0m\n",
      "\u001b[1;32m~\\anaconda3\\lib\\site-packages\\sklearn\\linear_model\\_logistic.py\u001b[0m in \u001b[0;36mfit\u001b[1;34m(self, X, y, sample_weight)\u001b[0m\n\u001b[0;32m   1302\u001b[0m         \u001b[0mThe\u001b[0m \u001b[0mSAGA\u001b[0m \u001b[0msolver\u001b[0m \u001b[0msupports\u001b[0m \u001b[0mboth\u001b[0m \u001b[0mfloat64\u001b[0m \u001b[1;32mand\u001b[0m \u001b[0mfloat32\u001b[0m \u001b[0mbit\u001b[0m \u001b[0marrays\u001b[0m\u001b[1;33m.\u001b[0m\u001b[1;33m\u001b[0m\u001b[1;33m\u001b[0m\u001b[0m\n\u001b[0;32m   1303\u001b[0m         \"\"\"\n\u001b[1;32m-> 1304\u001b[1;33m         \u001b[0msolver\u001b[0m \u001b[1;33m=\u001b[0m \u001b[0m_check_solver\u001b[0m\u001b[1;33m(\u001b[0m\u001b[0mself\u001b[0m\u001b[1;33m.\u001b[0m\u001b[0msolver\u001b[0m\u001b[1;33m,\u001b[0m \u001b[0mself\u001b[0m\u001b[1;33m.\u001b[0m\u001b[0mpenalty\u001b[0m\u001b[1;33m,\u001b[0m \u001b[0mself\u001b[0m\u001b[1;33m.\u001b[0m\u001b[0mdual\u001b[0m\u001b[1;33m)\u001b[0m\u001b[1;33m\u001b[0m\u001b[1;33m\u001b[0m\u001b[0m\n\u001b[0m\u001b[0;32m   1305\u001b[0m \u001b[1;33m\u001b[0m\u001b[0m\n\u001b[0;32m   1306\u001b[0m         \u001b[1;32mif\u001b[0m \u001b[1;32mnot\u001b[0m \u001b[0misinstance\u001b[0m\u001b[1;33m(\u001b[0m\u001b[0mself\u001b[0m\u001b[1;33m.\u001b[0m\u001b[0mC\u001b[0m\u001b[1;33m,\u001b[0m \u001b[0mnumbers\u001b[0m\u001b[1;33m.\u001b[0m\u001b[0mNumber\u001b[0m\u001b[1;33m)\u001b[0m \u001b[1;32mor\u001b[0m \u001b[0mself\u001b[0m\u001b[1;33m.\u001b[0m\u001b[0mC\u001b[0m \u001b[1;33m<\u001b[0m \u001b[1;36m0\u001b[0m\u001b[1;33m:\u001b[0m\u001b[1;33m\u001b[0m\u001b[1;33m\u001b[0m\u001b[0m\n",
      "\u001b[1;32m~\\anaconda3\\lib\\site-packages\\sklearn\\linear_model\\_logistic.py\u001b[0m in \u001b[0;36m_check_solver\u001b[1;34m(solver, penalty, dual)\u001b[0m\n\u001b[0;32m    447\u001b[0m \u001b[1;33m\u001b[0m\u001b[0m\n\u001b[0;32m    448\u001b[0m     \u001b[1;32mif\u001b[0m \u001b[0mpenalty\u001b[0m \u001b[1;33m==\u001b[0m \u001b[1;34m'elasticnet'\u001b[0m \u001b[1;32mand\u001b[0m \u001b[0msolver\u001b[0m \u001b[1;33m!=\u001b[0m \u001b[1;34m'saga'\u001b[0m\u001b[1;33m:\u001b[0m\u001b[1;33m\u001b[0m\u001b[1;33m\u001b[0m\u001b[0m\n\u001b[1;32m--> 449\u001b[1;33m         raise ValueError(\"Only 'saga' solver supports elasticnet penalty,\"\n\u001b[0m\u001b[0;32m    450\u001b[0m                          \" got solver={}.\".format(solver))\n\u001b[0;32m    451\u001b[0m \u001b[1;33m\u001b[0m\u001b[0m\n",
      "\u001b[1;31mValueError\u001b[0m: Only 'saga' solver supports elasticnet penalty, got solver=liblinear."
     ]
    }
   ],
   "source": [
    "clf_log = LogisticRegression(C=2, max_iter=500, penalty = 'l1', solver = 'liblinear', )\n",
    "model_log = clf_log.fit(X_train,y_train)\n",
    "y_preds_log = model_log.predict(X_test)\n",
    "report_log = classification_report( y_test, y_preds_log )\n",
    "print(report_log)"
   ]
  },
  {
   "cell_type": "code",
   "execution_count": null,
   "metadata": {},
   "outputs": [],
   "source": []
  }
 ],
 "metadata": {
  "kernelspec": {
   "display_name": "Python 3",
   "language": "python",
   "name": "python3"
  },
  "language_info": {
   "codemirror_mode": {
    "name": "ipython",
    "version": 3
   },
   "file_extension": ".py",
   "mimetype": "text/x-python",
   "name": "python",
   "nbconvert_exporter": "python",
   "pygments_lexer": "ipython3",
   "version": "3.8.3"
  }
 },
 "nbformat": 4,
 "nbformat_minor": 4
}
